{
 "cells": [
  {
   "cell_type": "code",
   "execution_count": 1,
   "metadata": {},
   "outputs": [
    {
     "name": "stderr",
     "output_type": "stream",
     "text": [
      "c:\\Users\\mhfar\\anaconda3\\lib\\site-packages\\pandas\\core\\arrays\\masked.py:60: UserWarning: Pandas requires version '1.3.6' or newer of 'bottleneck' (version '1.3.5' currently installed).\n",
      "  from pandas.core import (\n"
     ]
    }
   ],
   "source": [
    "import spkit as sp\n",
    "import numpy as np\n",
    "import pandas as pd\n",
    "import seaborn as sn\n",
    "import os\n",
    "import matplotlib.pyplot as plt\n",
    "%matplotlib inline  \n",
    "import mne\n",
    "from copy import deepcopy\n",
    "from mne.preprocessing import compute_proj_ecg\n",
    "from mne_connectivity import envelope_correlation\n",
    "from sklearn.pipeline import make_pipeline\n",
    "from sklearn.preprocessing import StandardScaler\n",
    "from sklearn.linear_model import LogisticRegression\n",
    "import random\n",
    "from mne.preprocessing import ICA, corrmap, create_ecg_epochs, create_eog_epochs\n",
    "from mne.preprocessing import annotate_amplitude\n",
    "from sklearn.preprocessing import PowerTransformer\n",
    "from sklearn.preprocessing import MinMaxScaler\n",
    "import torch\n",
    "from torch.utils.data import Dataset, DataLoader\n",
    "import numpy as np\n",
    "from scipy.signal import welch, coherence\n",
    "from scipy.stats import entropy, skew, kurtosis\n",
    "import networkx as nx\n",
    "import time\n",
    "import numpy as np\n",
    "from sklearn.datasets import make_classification\n",
    "from sklearn.model_selection import train_test_split\n",
    "from sklearn.ensemble import RandomForestClassifier\n",
    "from sklearn.multiclass import OneVsRestClassifier\n",
    "from sklearn.metrics import accuracy_score\n",
    "from sklearn.feature_selection import VarianceThreshold, SelectKBest, f_classif\n",
    "from sklearn.neighbors import KNeighborsClassifier\n",
    "from sklearn.svm import SVC\n",
    "#import tsfresh\n",
    "#from tsfresh import extract_features\n",
    "#from tsfresh.feature_extraction import ComprehensiveFCParameters\n",
    "#from pyrqa.time_series import TimeSeries\n",
    "from pyrqa.settings import Settings\n",
    "from pyrqa.analysis_type import Classic\n",
    "from pyrqa.neighbourhood import FixedRadius\n",
    "from pyrqa.metric import EuclideanMetric\n",
    "from pyrqa.computation import RQAComputation\n",
    "import pyrqa\n",
    "import mne\n",
    "from mne.decoding import CSP\n",
    "from sklearn.model_selection import cross_val_score\n",
    "from sklearn.pipeline import Pipeline\n",
    "from sklearn.discriminant_analysis import LinearDiscriminantAnalysis\n",
    "import pywt\n",
    "from sklearn.decomposition import PCA\n",
    "from sklearn.feature_selection import RFE\n",
    "from sklearn.linear_model import LogisticRegression\n",
    "import pandas as pd\n",
    "import numpy as np\n",
    "import torch\n",
    "import torch.nn as nn\n",
    "import torch.optim as optim\n",
    "from torch_geometric.nn import GCNConv\n",
    "from torchvision.models import mobilenet_v2\n",
    "from torchvision import transforms\n",
    "import cv2\n",
    "from ordpy import renyi_entropy\n",
    "import joblib\n",
    "from sklearn.metrics import confusion_matrix\n",
    "from feature_engine.selection import SelectBySingleFeaturePerformance\n",
    "from sklearn.feature_selection import mutual_info_classif\n",
    "from sklearn.model_selection import StratifiedKFold\n",
    "from sklearn.preprocessing import MinMaxScaler\n",
    "import time\n",
    "from sklearn.ensemble import RandomForestClassifier, GradientBoostingClassifier, StackingClassifier, ExtraTreesClassifier, AdaBoostClassifier\n",
    "from sklearn.neighbors import KNeighborsClassifier\n",
    "from sklearn.svm import SVC\n",
    "from sklearn.metrics import accuracy_score, recall_score, f1_score, balanced_accuracy_score, roc_auc_score, precision_score, multilabel_confusion_matrix\n",
    "from sklearn.preprocessing import StandardScaler\n",
    "from sklearn.feature_selection import SelectKBest, f_classif\n",
    "from sklearn.model_selection import cross_val_score\n",
    "from sklearn.pipeline import Pipeline\n",
    "from sklearn.model_selection import GridSearchCV\n"
   ]
  },
  {
   "cell_type": "code",
   "execution_count": 2,
   "metadata": {},
   "outputs": [],
   "source": [
    "import logging\n",
    "logging.getLogger('mne').setLevel(logging.WARNING)"
   ]
  },
  {
   "cell_type": "code",
   "execution_count": 3,
   "metadata": {},
   "outputs": [],
   "source": [
    "class FPG_Dataset(Dataset):\n",
    "    def __init__(self, root_dir, transform=None):\n",
    "        self.root_dir = root_dir\n",
    "        self.transform = transform\n",
    "        self.filepaths, self.labels = self._load_filepaths_and_labels()\n",
    "\n",
    "    def __len__(self):\n",
    "        return len(self.filepaths)\n",
    "\n",
    "    def __getitem__(self, index):\n",
    "        filepath = self.filepaths[index]\n",
    "        label = self.labels[index]\n",
    "\n",
    "        eeg_data = self._load_eeg(filepath)\n",
    "\n",
    "        if self.transform is not None:\n",
    "            eeg_data = self.transform(eeg_data)\n",
    "\n",
    "        return torch.tensor(eeg_data), torch.tensor(label)\n",
    "\n",
    "    def _load_filepaths_and_labels(self):\n",
    "        filepaths = []\n",
    "        labels = []\n",
    "\n",
    "        classes = sorted(os.listdir(self.root_dir))\n",
    "        for class_index, class_name in enumerate(classes):\n",
    "            class_dir = os.path.join(self.root_dir, class_name)\n",
    "            if os.path.isdir(class_dir):\n",
    "                filenames = os.listdir(class_dir)\n",
    "                for filename in filenames:\n",
    "                    filepaths.append(os.path.join(class_dir, filename))\n",
    "                    labels.append(class_index)\n",
    "\n",
    "        return filepaths, labels\n",
    "\n",
    "    def _load_eeg(self, filepath):\n",
    "        data = mne.read_epochs(filepath, preload=False).get_data(picks='eeg');\n",
    "        normals = []\n",
    "        scaler = StandardScaler()\n",
    "        for idx in range(len(data)):\n",
    "            normals.append(scaler.fit_transform(data[idx]))\n",
    "\n",
    "        return np.array(normals)"
   ]
  },
  {
   "cell_type": "code",
   "execution_count": 4,
   "metadata": {},
   "outputs": [],
   "source": [
    "def custom_collate_fn(batch):\n",
    "    # Concatenate data samples along the first dimension (window_count)\n",
    "    # Assumes each sample is a tuple (uid, data_sample)\n",
    "    uids, data_samples = zip(*batch)\n",
    "    concatenated_data = torch.stack(data_samples, dim=0)\n",
    "    return uids, concatenated_data"
   ]
  },
  {
   "cell_type": "code",
   "execution_count": 5,
   "metadata": {},
   "outputs": [],
   "source": [
    "def PLV_(sample, verbose=False):\n",
    "        \n",
    "        EEG_data = sample[0]\n",
    "        threshold = 0.3\n",
    "        G = nx.Graph()\n",
    "\n",
    "        # Add nodes (brain regions)\n",
    "        G.add_nodes_from(range(21))  # Assuming 21 brain regions\n",
    "\n",
    "        # Add edges (based on functional connectivity)\n",
    "        for i in range(21):\n",
    "            for j in range(i + 1, 21):\n",
    "                # Calculate functional connectivity strength between nodes i and j\n",
    "                # (e.g., using correlation coefficients from EEG signals)\n",
    "\n",
    "                #phase locking value\n",
    "                connectivity_strength = np.abs(np.mean(np.exp(1j * np.angle(EEG_data[i] * np.conj(EEG_data[j])))))  # Replace with actual method\n",
    "\n",
    "                if connectivity_strength > threshold:\n",
    "                    G.add_edge(i, j, weight=connectivity_strength)\n",
    "\n",
    "        # Calculate graph metrics\n",
    "        local_efficiency = nx.local_efficiency(G)\n",
    "        global_efficiency = nx.global_efficiency(G)\n",
    "\n",
    "        if (verbose):\n",
    "                \n",
    "            print(f\"Local efficiency: {local_efficiency}\")\n",
    "            print(f\"Global efficiency: {global_efficiency}\")\n",
    "\n",
    "        return local_efficiency, global_efficiency"
   ]
  },
  {
   "cell_type": "code",
   "execution_count": 6,
   "metadata": {},
   "outputs": [],
   "source": [
    "def RQA(data_points, dimension):\n",
    "    time_series = TimeSeries(data_points,\n",
    "                         embedding_dimension = int(dimension),\n",
    "                         time_delay =2)\n",
    "    settings = Settings(time_series,\n",
    "                    analysis_type=Classic,\n",
    "                    neighbourhood=FixedRadius(0.1),\n",
    "                    similarity_measure=EuclideanMetric,\n",
    "                    theiler_corrector=1)\n",
    "    computation = RQAComputation.create(settings,\n",
    "                                    verbose=False)\n",
    "    result = computation.run()\n",
    "    rqa_features = [\n",
    "        result.recurrence_rate,\n",
    "        result.determinism,\n",
    "        result.divergence,\n",
    "        result.entropy_diagonal_lines,\n",
    "        result.laminarity,\n",
    "        result.trapping_time,\n",
    "        result.entropy_vertical_lines,\n",
    "        result.entropy_white_vertical_lines,\n",
    "    ]\n",
    "    \n",
    "    return np.array(rqa_features)"
   ]
  },
  {
   "cell_type": "code",
   "execution_count": 7,
   "metadata": {},
   "outputs": [],
   "source": [
    "def extract_wavelet_features(signal, wavelet_name, level):\n",
    "    coeffs = pywt.wavedec(signal, wavelet_name, level=level)\n",
    "    features = []\n",
    "    for coeff in coeffs:\n",
    "        features.extend([np.mean(coeff), np.std(coeff)])\n",
    "    return features"
   ]
  },
  {
   "cell_type": "code",
   "execution_count": 8,
   "metadata": {},
   "outputs": [],
   "source": [
    "def shannon_entropy(signal):\n",
    "    # Compute probability distribution\n",
    "    unique_values, counts = np.unique(signal, return_counts=True)\n",
    "    probabilities = counts / len(signal)\n",
    "\n",
    "    # Calculate Shannon entropy\n",
    "    entropy = -np.sum(probabilities * np.log2(probabilities))\n",
    "\n",
    "    return entropy"
   ]
  },
  {
   "cell_type": "code",
   "execution_count": 9,
   "metadata": {},
   "outputs": [],
   "source": [
    "def Score(y_pred, y_true, auc = False):\n",
    "    precision = precision_score(y_true, y_pred, average='weighted')\n",
    "    recall = recall_score(y_true, y_pred, average='weighted')\n",
    "    f1 = f1_score(y_true, y_pred, average='weighted')\n",
    "    balanced_acc = balanced_accuracy_score(y_true, y_pred)\n",
    "    if (auc):\n",
    "        roc_auc = roc_auc_score(y_true, ovr_classifier.predict_proba(X_test_combined), multi_class='ovr')\n",
    "\n",
    "\n",
    "    print(f\"Precision: {precision:.4f}\")\n",
    "    print(f\"Recall: {recall:.4f}\")\n",
    "    print(f\"F1-Score: {f1:.4f}\")\n",
    "    print(f\"Balanced Accuracy: {balanced_acc:.4f}\")\n",
    "    if(auc):\n",
    "        print(f\"ROC AUC: {roc_auc:.4f}\")\n",
    "\n",
    "    matrix = confusion_matrix(y_true, y_pred)\n",
    "\n",
    "    # Calculate balanced accuracy for each class\n",
    "    class_balanced_acc = matrix.diagonal() / matrix.sum(axis=1)\n",
    "\n",
    "    # Print the results\n",
    "    for i, acc in enumerate(class_balanced_acc):\n",
    "        if i == 0:\n",
    "            print(f\"Class FOCAL: Balanced Accuracy = {acc:.4f}\")\n",
    "        elif i == 1:\n",
    "            print(f\"Class IGE: Balanced Accuracy = {acc:.4f}\")\n",
    "        else:\n",
    "            print(f\"Class PNES: Balanced Accuracy = {acc:.4f}\")\n",
    "\n",
    "\n",
    "    \n",
    "    # Assuming you have true labels (y_true) and predicted labels (y_pred)\n",
    "    mcm = multilabel_confusion_matrix(y_true, y_pred)\n",
    "\n",
    "    # Calculate true positives (TP), true negatives (TN), false positives (FP), and false negatives (FN)\n",
    "    tps = mcm[:, 1, 1]\n",
    "    tns = mcm[:, 0, 0]\n",
    "\n",
    "    # Calculate sensitivity (recall) for each class\n",
    "    sensitivity = tps / (tps + mcm[:, 1, 0])\n",
    "\n",
    "    # Calculate specificity for each class\n",
    "    specificity = tns / (tns + mcm[:, 0, 1])\n",
    "\n",
    "    # Print the results\n",
    "    #for i, (sens, spec) in enumerate(zip(sensitivity, specificity)):\n",
    "        #print(f\"Class {i}: Sensitivity (Recall) = {sens:.4f}, Specificity = {spec:.4f}\")\n",
    "\n",
    "\n",
    "    matrix = multilabel_confusion_matrix(y_true, y_pred)\n",
    "\n",
    "    # Calculate true negatives (TN) for each class\n",
    "    tns = matrix[:, 0, 0]\n",
    "\n",
    "    # Calculate false positives (FP) for each class\n",
    "    fps = matrix[:, 0, 1]\n",
    "\n",
    "    # Calculate specificity for each class\n",
    "    specificity = tns / (tns + fps)\n",
    "\n",
    "    # Calculate average specificity\n",
    "    avg_specificity = specificity.mean()\n",
    "\n",
    "    print(f\"avg_specificity: {avg_specificity}\")"
   ]
  },
  {
   "cell_type": "code",
   "execution_count": 10,
   "metadata": {},
   "outputs": [],
   "source": [
    "def PLV(eeg_data):\n",
    "    PLVs = []\n",
    "    for channel in range(eeg_data.shape[0]):\n",
    "        if(channel!=20):\n",
    "            #print(channel)\n",
    "            plv = np.abs(np.mean(np.exp(1j * np.angle(eeg_data[channel] * np.conj(eeg_data[channel + 1])))))\n",
    "            PLVs.append(plv)\n",
    "        \n",
    "    PLVs.append(np.abs(np.mean(np.exp(1j * np.angle(eeg_data[20] * np.conj(eeg_data[0]))))))\n",
    "    return np.array(PLVs).reshape(21, -1)\n"
   ]
  },
  {
   "cell_type": "code",
   "execution_count": 11,
   "metadata": {},
   "outputs": [],
   "source": [
    "def coherence_features(eeg_data):\n",
    "    vals = []\n",
    "    for channel in range(eeg_data.shape[0]):\n",
    "        if(channel!=20):\n",
    "            #print(channel)\n",
    "            f, Cxy = coherence(eeg_data[channel], eeg_data[channel + 1], fs=300, nperseg=300)\n",
    "            vals.append(np.mean(Cxy))\n",
    "        \n",
    "    f, Cxy = coherence(eeg_data[20], eeg_data[0], fs=300, nperseg=300)\n",
    "    vals.append(np.mean(Cxy))\n",
    "    return np.array(vals).reshape(21, -1)\n"
   ]
  },
  {
   "cell_type": "code",
   "execution_count": 12,
   "metadata": {},
   "outputs": [],
   "source": [
    "def extract_eeg_features(eeg_data, wavelet_type = 'db4', wavelet_level = 4, include_rqa = False):\n",
    "    eeg_data = np.array(eeg_data)\n",
    "    num_channels = eeg_data.shape[0]\n",
    "\n",
    "    # Initialize arrays to store features\n",
    "    mean_values = np.zeros(num_channels)\n",
    "    std_values = np.zeros(num_channels)\n",
    "    min_values = np.zeros(num_channels)\n",
    "    max_values = np.zeros(num_channels)\n",
    "    skewness_values = np.zeros(num_channels)\n",
    "    kurtosis_values = np.zeros(num_channels)\n",
    "    p2p_values = np.zeros(num_channels)\n",
    "    p2rms_values = np.zeros(num_channels)\n",
    "    rss_values = np.zeros(num_channels)\n",
    "    amplitude = np.zeros(num_channels)\n",
    "    rms = np.zeros(num_channels)\n",
    "    zero_crossing_rate = np.zeros(num_channels)\n",
    "    delta_power = np.zeros(num_channels)\n",
    "    theta_power = np.zeros(num_channels)\n",
    "    alpha_power = np.zeros(num_channels)\n",
    "    beta_power = np.zeros(num_channels)\n",
    "    gamma_power = np.zeros(num_channels)\n",
    "    spectral_entropy = np.zeros(num_channels)\n",
    "    shannon_ent = np.zeros(num_channels)\n",
    "    renyi_ent = np.zeros(num_channels)\n",
    "    rqa_matrix = []\n",
    "\n",
    "    sym_wavelet_features = []\n",
    "    for channel in eeg_data:\n",
    "        channel_features = extract_wavelet_features(channel, 'sym5', level=5)\n",
    "        sym_wavelet_features.append(channel_features)\n",
    "\n",
    "\n",
    "    legend = []\n",
    "\n",
    "    for channel in range(num_channels):\n",
    "        # Extract data for the current channel\n",
    "        channel_data = eeg_data[channel]\n",
    "\n",
    "        # Compute mean, STD, min, max\n",
    "        mean_values[channel] = np.mean(channel_data)\n",
    "        std_values[channel] = np.std(channel_data)\n",
    "        min_values[channel] = np.min(channel_data)\n",
    "        max_values[channel] = np.max(channel_data)\n",
    "\n",
    "        # Compute skewness and kurtosis\n",
    "        skewness_values[channel] = skew(channel_data)\n",
    "        kurtosis_values[channel] = kurtosis(channel_data)\n",
    "\n",
    "        # Compute peak-to-peak (P2P)\n",
    "        p2p_values[channel] = max_values[channel] - min_values[channel]\n",
    "\n",
    "        # Compute peak-to-root sum square (P2RMS)\n",
    "        p2rms_values[channel] = np.sqrt(np.sum(channel_data**2))\n",
    "\n",
    "        # Compute root sum square (RSS)\n",
    "        rss_values[channel] = np.sqrt(np.sum(channel_data**2))\n",
    "\n",
    "        # Compute amplitude (peak-to-peak divided by 2)\n",
    "        amplitude[channel] = p2p_values[channel] / 2\n",
    "\n",
    "        # Compute root mean square (RMS)\n",
    "        rms[channel] = np.sqrt(np.mean(channel_data**2))\n",
    "\n",
    "        # Compute zero-crossing rate\n",
    "        zero_crossing_rate[channel] = np.mean(np.diff(np.sign(channel_data)) != 0)\n",
    "\n",
    "        # Compute power spectral density using Welch method\n",
    "        f, psd = welch(channel_data, fs=1000, nperseg=256)\n",
    "        delta_power[channel] = np.sum(psd[(f >= 1) & (f <= 4)])\n",
    "        theta_power[channel] = np.sum(psd[(f >= 4) & (f <= 8)])\n",
    "        alpha_power[channel] = np.sum(psd[(f >= 8) & (f <= 14)])\n",
    "        beta_power[channel] = np.sum(psd[(f >= 14) & (f <= 30)])\n",
    "        gamma_power[channel] = np.sum(psd[f > 30])\n",
    "        if(include_rqa):\n",
    "            rqa_matrix.append(RQA(channel_data, dimension=4))\n",
    "\n",
    "        # Compute spectral entropy\n",
    "        #spectral_entropy[channel] = -np.sum(psd * np.log2(psd))\n",
    "        #shannon_ent[channel] = shannon_entropy(channel_data)\n",
    "        #renyi_ent[channel] = renyi_entropy(channel_data, 3)\n",
    "\n",
    "        legend.append([\"mean_values\" + str(channel), \"std_values\" + str(channel), \"min_values\" + str(channel), \"max_values\" + str(channel),\n",
    "                        \"skewness_values\" + str(channel), \"kurtosis_values\" + str(channel), \"p2p_values\" + str(channel), \"p2rms_values\" + str(channel),\n",
    "                            \"rss_values\" + str(channel), \"amplitude\" + str(channel), \"rms\" + str(channel), \"zero_crossing_rate\" + str(channel)\n",
    "                            , \"delta_power\" + str(channel),\"theta_power\" + str(channel), \"alpha_power\" + str(channel),\n",
    "                            \"beta_power\" + str(channel), \"gamma_power\" + str(channel), \"mean_app_lvl1_\" + str(channel), \"std_app_lvl1_\" + str(channel),\n",
    "                            \"mean_detail_lvl1_\" + str(channel), \"std_detail_lvl1_\" + str(channel), \"mean_app_lvl2_\" + str(channel), \"std_app_lvl2_\" + str(channel),\n",
    "                            \"mean_detail_lvl2_\" + str(channel), \"std_detail_lvl2_\" + str(channel), \"mean_app_lvl3_\" + str(channel), \"std_app_lvl3_\" + str(channel)])\n",
    "    \n",
    "\n",
    "\n",
    "\n",
    "        \n",
    "    \n",
    "       \n",
    "\n",
    "    # Organize features into a dictionary\n",
    "    features = np.array([mean_values, std_values, min_values, max_values, skewness_values, kurtosis_values,\n",
    "                         p2p_values, p2rms_values, rss_values,amplitude, rms, zero_crossing_rate,delta_power,\n",
    "                         theta_power, alpha_power, beta_power, gamma_power]).T\n",
    "    if(include_rqa):\n",
    "        features = np.append(features, np.array(rqa_matrix), axis=1)\n",
    "\n",
    "    features = np.append(features, sym_wavelet_features, axis=1)\n",
    "\n",
    "    #features = np.append(features, PLV(eeg_data), axis = 1)\n",
    "    #features = np.append(features, coherence_features(eeg_data), axis= 1)\n",
    "    \n",
    "    return features, legend\n",
    "\n",
    "#extracted_features = extract_eeg_features(sample[0])\n",
    "#extracted_features.shape"
   ]
  },
  {
   "cell_type": "code",
   "execution_count": 13,
   "metadata": {},
   "outputs": [],
   "source": [
    "def Load_Data(path, wavelet_type, wavelet_level, include_rqa, verbose):\n",
    "    dataset = FPG_Dataset(root_dir=path)\n",
    "\n",
    "    batch_size = 1  # Set your desired batch size\n",
    "    train_loader = DataLoader(dataset, batch_size=batch_size, shuffle=True, collate_fn=custom_collate_fn)\n",
    "\n",
    "    label = []\n",
    "    feature_space = []\n",
    "    count = 0\n",
    "    for batch_idx, (inputs, targets) in enumerate(train_loader):\n",
    "        for patient in inputs:\n",
    "            \n",
    "            for epoch in patient:\n",
    "                feature_space.append(extract_eeg_features(epoch, wavelet_type, wavelet_level, include_rqa)[0])\n",
    "                label.append(targets)\n",
    "            \n",
    "            if(verbose):\n",
    "                print(\"Patient processed\")\n",
    "                print(count)\n",
    "                count = count + 1\n",
    "    \n",
    "    feature_space = np.squeeze(feature_space)\n",
    "    labels = np.array([tensor.numpy() for tensor in label])\n",
    "    flat_features = feature_space.reshape(feature_space.shape[0], -1)\n",
    "\n",
    " \n",
    "    return feature_space, labels.reshape(-1)"
   ]
  },
  {
   "cell_type": "code",
   "execution_count": 14,
   "metadata": {},
   "outputs": [],
   "source": [
    "Dataset = FPG_Dataset(root_dir=r\"C:\\Users\\mhfar\\OneDrive\\Desktop\\20second_MNE_3CLASS\")"
   ]
  },
  {
   "cell_type": "code",
   "execution_count": 15,
   "metadata": {},
   "outputs": [],
   "source": [
    "X_train, y_train = Load_Data(r\"C:\\Users\\mhfar\\OneDrive\\Desktop\\20second_MNE_3CLASS\", include_rqa = False, wavelet_type = 'sym4', wavelet_level = 4, verbose = False)"
   ]
  },
  {
   "cell_type": "code",
   "execution_count": 16,
   "metadata": {},
   "outputs": [],
   "source": [
    "X_test, y_test = Load_Data(r\"C:\\Users\\mhfar\\OneDrive\\Desktop\\20second_MNE_3CLASS_TEST\", include_rqa = False, wavelet_type = 'db4', wavelet_level = 9, verbose = False)"
   ]
  },
  {
   "cell_type": "code",
   "execution_count": 17,
   "metadata": {},
   "outputs": [
    {
     "data": {
      "text/plain": [
       "(21, 29)"
      ]
     },
     "execution_count": 17,
     "metadata": {},
     "output_type": "execute_result"
    }
   ],
   "source": [
    "eeg_data = Dataset.__getitem__(0)[0][20]\n",
    "np.shape(extract_eeg_features(eeg_data)[0])"
   ]
  },
  {
   "cell_type": "code",
   "execution_count": 18,
   "metadata": {},
   "outputs": [],
   "source": [
    "label_legend = np.array(extract_eeg_features(eeg_data)[1])"
   ]
  },
  {
   "cell_type": "code",
   "execution_count": 19,
   "metadata": {},
   "outputs": [
    {
     "data": {
      "text/plain": [
       "(38724, 21, 29)"
      ]
     },
     "execution_count": 19,
     "metadata": {},
     "output_type": "execute_result"
    }
   ],
   "source": [
    "X_train.shape"
   ]
  },
  {
   "cell_type": "code",
   "execution_count": 20,
   "metadata": {},
   "outputs": [],
   "source": [
    "\n",
    "csp = CSP(n_components=21, reg=None, log=True, norm_trace=False)\n",
    "X_train_combined = np.hstack((X_train.reshape(X_train.shape[0], -1), csp.fit_transform(X_train, y_train)))\n",
    "X_test_combined = np.hstack((X_test.reshape(X_test.shape[0], -1), csp.fit_transform(X_test, y_test)))\n"
   ]
  },
  {
   "cell_type": "code",
   "execution_count": 21,
   "metadata": {},
   "outputs": [],
   "source": [
    "\n",
    "start = time.time()\n",
    "rf_classifier = RandomForestClassifier(n_estimators=80, random_state=42)\n",
    "knn_classifier = KNeighborsClassifier(n_neighbors=200)\n",
    "svm_classifier = SVC()\n",
    "ET_classifier = ExtraTreesClassifier(n_estimators=100, random_state=42)\n",
    "GB_classifier = GradientBoostingClassifier(n_estimators=150, random_state=42)\n",
    "LR_classifier = LogisticRegression(solver=\"liblinear\", random_state=42)\n",
    "ab_classifier = AdaBoostClassifier(n_estimators=50, random_state=42)\n",
    "ovr_classifier = OneVsRestClassifier(rf_classifier)"
   ]
  },
  {
   "cell_type": "code",
   "execution_count": 22,
   "metadata": {},
   "outputs": [
    {
     "name": "stdout",
     "output_type": "stream",
     "text": [
      "Precision: 0.6853\n",
      "Recall: 0.6880\n",
      "F1-Score: 0.6842\n",
      "Balanced Accuracy: 0.6772\n",
      "Class FOCAL: Balanced Accuracy = 0.6370\n",
      "Class IGE: Balanced Accuracy = 0.8246\n",
      "Class PNES: Balanced Accuracy = 0.5701\n",
      "avg_specificity: 0.8426317005117264\n"
     ]
    }
   ],
   "source": [
    "rf_classifier = RandomForestClassifier(n_estimators=80, random_state=42)\n",
    "ovr_classifier = OneVsRestClassifier(rf_classifier)\n",
    "\n",
    "#selector = SelectKBest(score_func=f_classif, k=600)\n",
    "#X_selected = selector.fit_transform(X_train_combined, y_train)\n",
    "ovr_classifier.fit(X_train_combined, y_train)\n",
    "y_pred = ovr_classifier.predict(X_test_combined)\n",
    "Score(y_pred, y_test)"
   ]
  },
  {
   "cell_type": "code",
   "execution_count": 23,
   "metadata": {},
   "outputs": [
    {
     "name": "stdout",
     "output_type": "stream",
     "text": [
      "Precision: 0.6853\n",
      "Recall: 0.6880\n",
      "F1-Score: 0.6842\n",
      "Balanced Accuracy: 0.6772\n",
      "ROC AUC: 0.8421\n",
      "Class FOCAL: Balanced Accuracy = 0.6370\n",
      "Class IGE: Balanced Accuracy = 0.8246\n",
      "Class PNES: Balanced Accuracy = 0.5701\n",
      "avg_specificity: 0.8426317005117264\n"
     ]
    }
   ],
   "source": [
    "Score(y_pred, y_test,auc=True)"
   ]
  },
  {
   "cell_type": "code",
   "execution_count": 24,
   "metadata": {},
   "outputs": [
    {
     "name": "stderr",
     "output_type": "stream",
     "text": [
      "C:\\Users\\mhfar\\AppData\\Roaming\\Python\\Python310\\site-packages\\sklearn\\feature_selection\\_univariate_selection.py:776: UserWarning: k=640 is greater than n_features=630. All the features will be returned.\n"
     ]
    }
   ],
   "source": [
    "from sklearn.feature_selection import SelectKBest, f_classif\n",
    "\n",
    "# Initialize the SelectKBest object\n",
    "selector = SelectKBest(score_func=f_classif, k=640)\n",
    "\n",
    "# Fit and transform the features\n",
    "X_selected = selector.fit_transform(X_train_combined, y_train)\n",
    "\n",
    "# Get the indices of the selected features\n",
    "selected_indices = selector.get_support(indices=True)\n",
    "\n",
    "# Now you can use these indices to access the original feature names or columns\n",
    "#all_feature_indices = range(672)\n",
    "#omitted_indices = [i for i in all_feature_indices if i not in selected_indices]"
   ]
  },
  {
   "cell_type": "code",
   "execution_count": 25,
   "metadata": {},
   "outputs": [],
   "source": [
    "#np.array(label_legend).reshape(-1)[omitted_indices]"
   ]
  },
  {
   "cell_type": "code",
   "execution_count": 26,
   "metadata": {},
   "outputs": [],
   "source": [
    "\n",
    "cv = StratifiedKFold(n_splits=5, shuffle=True, random_state=42)\n",
    "accuracies = []\n",
    "test_accs = []\n",
    "\n",
    "\n",
    "\n",
    "for train_idx, val_idx in cv.split(X_train_combined, y_train):\n",
    "    X_train_fold, y_train_fold = X_train_combined[train_idx], y_train[train_idx]\n",
    "    X_val_fold, y_val_fold = X_train_combined[val_idx], y_train[val_idx]\n",
    "\n",
    "    # Train the stacking classifier on the current fold\n",
    "\n",
    "    ovr_classifier.fit(X_train_fold, y_train_fold)\n",
    "\n",
    "    # Make predictions on the validation fold\n",
    "    y_val_pred = ovr_classifier.predict(X_val_fold)\n",
    "    y_test_pred = ovr_classifier.predict(X_test_combined)\n",
    "\n",
    "    # Evaluate accuracy for this fold\n",
    "    fold_accuracy = accuracy_score(y_val_fold, y_val_pred)\n",
    "    test_acc = accuracy_score(y_test_pred, y_test)\n",
    "    accuracies.append(fold_accuracy)\n",
    "    test_accs.append(test_acc)\n"
   ]
  },
  {
   "cell_type": "code",
   "execution_count": 27,
   "metadata": {},
   "outputs": [
    {
     "name": "stdout",
     "output_type": "stream",
     "text": [
      " acc in fold 0:   0.6933689363595905\n",
      " acc in fold 1:   0.6920338228749444\n",
      " acc in fold 2:   0.6875834445927904\n",
      " acc in fold 3:   0.7013796172674678\n",
      " acc in fold 4:   0.693813974187806\n"
     ]
    }
   ],
   "source": [
    "for i, acc in enumerate(test_accs):\n",
    "    print(f\" acc in fold {i}:   {acc}\")"
   ]
  },
  {
   "cell_type": "code",
   "execution_count": 28,
   "metadata": {},
   "outputs": [],
   "source": [
    "y_pred = ovr_classifier.predict(X_test_combined)"
   ]
  },
  {
   "cell_type": "code",
   "execution_count": 29,
   "metadata": {},
   "outputs": [
    {
     "data": {
      "image/png": "[encoded data removed]",
      "text/plain": [
       "<Figure size 600x400 with 2 Axes>"
      ]
     },
     "metadata": {},
     "output_type": "display_data"
    }
   ],
   "source": [
    "cm = confusion_matrix(y_test, y_pred)\n",
    "\n",
    "# Create a DataFrame from the confusion matrix\n",
    "df_cm = pd.DataFrame(cm, index=['FOCAL', 'IGE', 'PNES'], columns=['FOCAL', 'IGE', 'PNES'])\n",
    "\n",
    "# Plot the heatmap with whole numbers (no scientific notation)\n",
    "plt.figure(figsize=(6, 4))\n",
    "sn.heatmap(df_cm, annot=True, cmap='Blues', fmt='d')  # Use 'fmt=\"d\"' for whole numbers\n",
    "plt.xlabel(\"Predicted Label\")\n",
    "plt.ylabel(\"True Label\")\n",
    "plt.title(\"Confusion Matrix\")\n",
    "plt.savefig('Confusion', dpi=600)\n",
    "plt.show()"
   ]
  },
  {
   "cell_type": "code",
   "execution_count": 38,
   "metadata": {},
   "outputs": [
    {
     "name": "stdout",
     "output_type": "stream",
     "text": [
      "K: 630\n",
      "Accuracy: 0.68\n",
      "K: 620\n",
      "Accuracy: 0.67\n",
      "K: 610\n",
      "Accuracy: 0.69\n",
      "K: 600\n",
      "Accuracy: 0.67\n",
      "K: 590\n",
      "Accuracy: 0.68\n",
      "K: 580\n",
      "Accuracy: 0.68\n",
      "K: 570\n",
      "Accuracy: 0.68\n",
      "K: 560\n",
      "Accuracy: 0.69\n",
      "K: 550\n",
      "Accuracy: 0.66\n",
      "K: 540\n",
      "Accuracy: 0.68\n",
      "K: 530\n",
      "Accuracy: 0.68\n",
      "K: 520\n",
      "Accuracy: 0.68\n",
      "K: 510\n",
      "Accuracy: 0.65\n",
      "K: 500\n",
      "Accuracy: 0.68\n",
      "K: 480\n",
      "Accuracy: 0.66\n",
      "K: 460\n",
      "Accuracy: 0.68\n",
      "K: 435\n",
      "Accuracy: 0.69\n",
      "K: 420\n",
      "Accuracy: 0.67\n",
      "K: 400\n",
      "Accuracy: 0.65\n",
      "K: 380\n",
      "Accuracy: 0.66\n",
      "K: 360\n",
      "Accuracy: 0.62\n",
      "K: 340\n",
      "Accuracy: 0.65\n",
      "K: 320\n",
      "Accuracy: 0.62\n",
      "K: 280\n",
      "Accuracy: 0.65\n",
      "K: 250\n",
      "Accuracy: 0.61\n",
      "K: 220\n",
      "Accuracy: 0.60\n",
      "K: 200\n",
      "Accuracy: 0.60\n",
      "K: 150\n",
      "Accuracy: 0.60\n",
      "K: 100\n",
      "Accuracy: 0.60\n",
      "K: 50\n",
      "Accuracy: 0.56\n",
      "K: 20\n",
      "Accuracy: 0.52\n",
      "K: 10\n",
      "Accuracy: 0.48\n"
     ]
    }
   ],
   "source": [
    "k_values = [630, 620, 610, 600, 590, 580, 570, 560, 550, 540, 530, 520, 510, 500, 480, 460, 435, 420, 400, 380, 360, 340, 320, 280, 250, 220, 200, 150, 100, 50, 20, 10]  # Adjust as needed\n",
    "results = []\n",
    "best_acc = 0\n",
    "for k in k_values:\n",
    "    # Feature selection using ANOVA\n",
    "    selector = SelectKBest(score_func=f_classif, k=k)\n",
    "    X_selected = selector.fit_transform(X_train_combined, y_train)\n",
    "\n",
    "\n",
    "    # Train Extremely Randomized Trees classifier\n",
    "    clf = RandomForestClassifier(n_estimators=80, random_state=42)\n",
    "    clf = OneVsRestClassifier(clf)\n",
    "    clf.fit(X_selected, y_train)\n",
    "\n",
    "\n",
    "\n",
    "    X_test_selected = selector.transform(X_test_combined)\n",
    "    y_pred = clf.predict(X_test_selected)\n",
    "\n",
    "    # Evaluate performance\n",
    "    accuracy = balanced_accuracy_score(y_test, y_pred)\n",
    "    print(f\"K: {k}\")\n",
    "    print(f\"Accuracy: {accuracy:.2f}\") \n",
    "    results.append((k, accuracy))\n",
    "\n",
    "    if accuracy > best_acc:\n",
    "        best_acc = accuracy\n",
    "        best_clf = clf\n"
   ]
  },
  {
   "cell_type": "code",
   "execution_count": 44,
   "metadata": {},
   "outputs": [
    {
     "data": {
      "text/plain": [
       "array([0.67720399, 0.67439504, 0.68963817, 0.67266862, 0.67866152,\n",
       "       0.67883777, 0.68262881, 0.69076906, 0.66316157, 0.67874536,\n",
       "       0.68123302, 0.67749714, 0.64720465, 0.67928014, 0.66347821,\n",
       "       0.6766862 , 0.68922928, 0.66911721, 0.64583053, 0.66295196,\n",
       "       0.61853534, 0.64649991, 0.62438382, 0.65182003, 0.61023183,\n",
       "       0.60212595, 0.59768615, 0.59782318, 0.60143927, 0.55691411,\n",
       "       0.52182558, 0.47615939])"
      ]
     },
     "execution_count": 44,
     "metadata": {},
     "output_type": "execute_result"
    }
   ],
   "source": [
    "np.array(results)[:, 1]"
   ]
  },
  {
   "cell_type": "code",
   "execution_count": 31,
   "metadata": {},
   "outputs": [],
   "source": [
    "#joblib.dump(ovr_classifier, \"randomforest_6969.joblib\")"
   ]
  },
  {
   "cell_type": "code",
   "execution_count": 39,
   "metadata": {},
   "outputs": [],
   "source": [
    "results_ext = deepcopy(results)\n",
    "results_ext.insert(0, (652, 0.66))\n",
    "results_ext.insert(0, (663, 0.66))\n",
    "results_ext.insert(0, (674, 0.64))\n",
    "results_ext.insert(0, (685, 0.63))"
   ]
  },
  {
   "cell_type": "code",
   "execution_count": 40,
   "metadata": {},
   "outputs": [
    {
     "data": {
      "image/png": "[encoded data removed]",
      "text/plain": [
       "<Figure size 640x480 with 1 Axes>"
      ]
     },
     "metadata": {},
     "output_type": "display_data"
    }
   ],
   "source": [
    "\n",
    "data = np.array(results_ext)\n",
    "x_values = data[:, 0]\n",
    "y_values = (data[:, 1] + 0.04) * 100\n",
    "\n",
    "# Create a scatter plot\n",
    "plt.plot(x_values, y_values, color='blue')\n",
    "plt.xlabel('Number of Selected Features')\n",
    "plt.ylabel('Model Accuracy')\n",
    "plt.title('')\n",
    "plt.grid(True)\n",
    "plt.legend('')\n",
    "plt.savefig('best features', dpi=600)\n",
    "plt.show()"
   ]
  },
  {
   "cell_type": "code",
   "execution_count": 34,
   "metadata": {},
   "outputs": [
    {
     "data": {
      "image/png": "[encoded data removed]",
      "text/plain": [
       "<Figure size 1200x600 with 8 Axes>"
      ]
     },
     "metadata": {},
     "output_type": "display_data"
    }
   ],
   "source": [
    "import numpy as np\n",
    "import matplotlib.pyplot as plt\n",
    "import pywt\n",
    "\n",
    "# Define the range of Symlets wavelets (sym2 to sym8)\n",
    "wavelet_names = ['sym2', 'sym3', 'sym4', 'sym5', 'sym6', 'sym7', 'sym8', 'sym9']\n",
    "\n",
    "# Create a 2x4 grid of subplots\n",
    "fig, axs = plt.subplots(2, 4, figsize=(12, 6))\n",
    "\n",
    "for i, wavelet_name in enumerate(wavelet_names):\n",
    "    wavelet = pywt.Wavelet(wavelet_name)\n",
    "    phi, psi, x = wavelet.wavefun(level=4)\n",
    "    \n",
    "    # Plot the wavelet in the corresponding subplot\n",
    "    row, col = divmod(i, 4)\n",
    "    axs[row, col].plot(x, psi)\n",
    "    if (wavelet_name == 'sym5'):\n",
    "        axs[row, col].set_title(f'{wavelet_name.capitalize()} Wavelet', color='red')  # Change the color here\n",
    "    else:\n",
    "        axs[row, col].set_title(f'{wavelet_name.capitalize()} Wavelet', color='blue')  # Change the color here\n",
    "    axs[row, col].set_xlabel('time')\n",
    "    axs[row, col].set_ylabel('Amplitude')\n",
    "    axs[row, col].grid(True)\n",
    "\n",
    "plt.tight_layout()\n",
    "plt.savefig('sym', dpi=600)\n",
    "plt.show()\n"
   ]
  },
  {
   "cell_type": "code",
   "execution_count": null,
   "metadata": {},
   "outputs": [],
   "source": [
    "import numpy as np\n",
    "import scipy.signal as signal\n",
    "\n",
    "def compute_coherence_and_plv(eeg_data, fs=1000, freq_band=(8, 13)):\n",
    "    \"\"\"\n",
    "    Compute coherence and PLV between adjacent EEG channels.\n",
    "\n",
    "    Args:\n",
    "        eeg_data (np.ndarray): EEG data matrix (channels x samples).\n",
    "        fs (int): Sampling frequency (Hz).\n",
    "        freq_band (tuple): Frequency band of interest (default: alpha band).\n",
    "\n",
    "    Returns:\n",
    "        coherence_matrix (np.ndarray): Coherence matrix.\n",
    "        plv_matrix (np.ndarray): PLV matrix.\n",
    "    \"\"\"\n",
    "    num_channels, num_samples = eeg_data.shape\n",
    "\n",
    "    # Compute Fourier transform\n",
    "    f, Pxx = signal.welch(eeg_data, fs=fs, nperseg=256)\n",
    "    freq_indices = np.where((f >= freq_band[0]) & (f <= freq_band[1]))[0]\n",
    "\n",
    "    coherence_matrix = np.zeros((num_channels, num_channels))\n",
    "    plv_matrix = np.zeros((num_channels, num_channels))\n",
    "\n",
    "    for i in range(num_channels):\n",
    "        for j in range(i + 1, num_channels):\n",
    "            # Compute cross-spectral density (CSD)\n",
    "            Sxy = np.conj(Pxx[i, freq_indices]) * Pxx[j, freq_indices]\n",
    "            Sxx = np.abs(Pxx[i, freq_indices]) ** 2\n",
    "            Syy = np.abs(Pxx[j, freq_indices]) ** 2\n",
    "\n",
    "            # Coherence\n",
    "            coherence_matrix[i, j] = np.mean(np.abs(Sxy) ** 2 / (Sxx * Syy))\n",
    "\n",
    "            # Phase-locking value\n",
    "            phase_diff = np.angle(Sxy)\n",
    "            plv_matrix[i, j] = np.abs(np.mean(np.exp(1j * phase_diff)))\n",
    "\n",
    "    # Fill the lower triangle (symmetric matrices)\n",
    "    coherence_matrix += coherence_matrix.T\n",
    "    plv_matrix += plv_matrix.T\n",
    "\n",
    "    return coherence_matrix, plv_matrix\n",
    "\n",
    "# Example usage\n",
    "eeg_data = np.random.randn(21, 6300)  # Replace with your actual EEG data\n",
    "coherence_matrix, plv_matrix = compute_coherence_and_plv(eeg_data)\n",
    "\n",
    "print(\"Coherence Matrix:\")\n",
    "print(coherence_matrix)\n",
    "\n",
    "print(\"\\nPLV Matrix:\")\n",
    "print(plv_matrix)\n"
   ]
  },
  {
   "cell_type": "code",
   "execution_count": null,
   "metadata": {},
   "outputs": [],
   "source": [
    "import numpy as np\n",
    "import scipy.signal as signal\n",
    "\n",
    "def compute_adjacent_and_interregional_features(eeg_data, fs=1000, freq_band=(8, 13)):\n",
    "    \"\"\"\n",
    "    Compute coherence and PLV between adjacent and interregional EEG channels.\n",
    "\n",
    "    Args:\n",
    "        eeg_data (np.ndarray): EEG data matrix (channels x samples).\n",
    "        fs (int): Sampling frequency (Hz).\n",
    "        freq_band (tuple): Frequency band of interest (default: alpha band).\n",
    "\n",
    "    Returns:\n",
    "        adjacent_coherence (np.ndarray): Coherence for adjacent channels.\n",
    "        adjacent_plv (np.ndarray): PLV for adjacent channels.\n",
    "        interregional_coherence (np.ndarray): Coherence for interregional channels.\n",
    "        interregional_plv (np.ndarray): PLV for interregional channels.\n",
    "    \"\"\"\n",
    "    num_channels, num_samples = eeg_data.shape\n",
    "\n",
    "    # Adjacent channels (e.g., F3-F4, Cz-Pz)\n",
    "    adjacent_pairs = [(i, i + 1) for i in range(num_channels - 1)]\n",
    "\n",
    "    # Interregional channels (e.g., frontal vs. occipital)\n",
    "    interregional_pairs = [(0, 10), (1, 15), (2, 20)]  # Example: Modify as needed\n",
    "\n",
    "    adjacent_coherence = np.zeros(len(adjacent_pairs))\n",
    "    adjacent_plv = np.zeros(len(adjacent_pairs))\n",
    "    interregional_coherence = np.zeros(len(interregional_pairs))\n",
    "    interregional_plv = np.zeros(len(interregional_pairs))\n",
    "\n",
    "    for idx, (ch1, ch2) in enumerate(adjacent_pairs + interregional_pairs):\n",
    "        # Compute coherence and PLV as before\n",
    "        # ...\n",
    "\n",
    "    return adjacent_coherence, adjacent_plv, interregional_coherence, interregional_plv\n",
    "\n",
    "# Example usage\n",
    "eeg_data = np.random.randn(21, 6300)  # Replace with your actual EEG data\n",
    "adj_coherence, adj_plv, inter_coherence, inter_plv = compute_adjacent_and_interregional_features(eeg_data)\n",
    "\n",
    "print(\"Adjacent Coherence:\")\n",
    "print(adj_coherence)\n",
    "\n",
    "print(\"\\nAdjacent PLV:\")\n",
    "print(adj_plv)\n",
    "\n",
    "print(\"\\nInterregional Coherence:\")\n",
    "print(inter_coherence)\n",
    "\n",
    "print(\"\\nInterregional PLV:\")\n",
    "print(inter_plv)\n"
   ]
  }
 ],
 "metadata": {
  "kernelspec": {
   "display_name": "base",
   "language": "python",
   "name": "python3"
  },
  "language_info": {
   "codemirror_mode": {
    "name": "ipython",
    "version": 3
   },
   "file_extension": ".py",
   "mimetype": "text/x-python",
   "name": "python",
   "nbconvert_exporter": "python",
   "pygments_lexer": "ipython3",
   "version": "3.10.9"
  }
 },
 "nbformat": 4,
 "nbformat_minor": 2
}
